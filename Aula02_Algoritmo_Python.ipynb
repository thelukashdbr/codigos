{
  "nbformat": 4,
  "nbformat_minor": 0,
  "metadata": {
    "colab": {
      "name": "Aula02-Algoritmo-Python.ipynb",
      "provenance": [],
      "collapsed_sections": [],
      "authorship_tag": "ABX9TyM6xPMSBt9FhRAExCHJyM7k",
      "include_colab_link": true
    },
    "kernelspec": {
      "name": "python3",
      "display_name": "Python 3"
    },
    "language_info": {
      "name": "python"
    }
  },
  "cells": [
    {
      "cell_type": "markdown",
      "metadata": {
        "id": "view-in-github",
        "colab_type": "text"
      },
      "source": [
        "<a href=\"https://colab.research.google.com/github/thelukashdbr/codigos/blob/main/Aula02_Algoritmo_Python.ipynb\" target=\"_parent\"><img src=\"https://colab.research.google.com/assets/colab-badge.svg\" alt=\"Open In Colab\"/></a>"
      ]
    },
    {
      "cell_type": "markdown",
      "source": [
        "'Faça um programa para o cálcuo de uma folha de pagamento, sabendo que os descontos são do imposto de renda, que depende do salário bruto (conforme a tabela abaixo) e 10% para o INSS  e que o FGTS corresponde a 11% do salário bruto, mas não é descontado (é a empresa que deposita).\n",
        "\n",
        "O salário Líquido corresponde ao salário bruto menos os descontos. O programa deverá pedir ao usuário o valor da sua hora e as horas trabalhadas no mes\n",
        "\n",
        "Desconto do IR: Salário Bruto até 900 (inclusive)-isento de salario bruto, até 1500(inclusive)- desconto de 5%, até 2500(inclusive)- desconto de 10%, maior que 2500(inclusive)- desconto de 20%"
      ],
      "metadata": {
        "id": "VATFp9TdcZwT"
      }
    },
    {
      "cell_type": "code",
      "execution_count": 1,
      "metadata": {
        "colab": {
          "base_uri": "https://localhost:8080/"
        },
        "id": "ACbmcoRgcS1i",
        "outputId": "f7bbcfe2-9b19-4bdb-f54d-68a503a8dffd"
      },
      "outputs": [
        {
          "name": "stdout",
          "output_type": "stream",
          "text": [
            "Digite o quanto você recbe por hora: 10\n",
            "Digite quantas horas você trabalhou esse mês: 180\n"
          ]
        }
      ],
      "source": [
        "# Coletando os dados de entrada da folha de pagamento\n",
        "valorhora = float(input(\"Digite o quanto você recbe por hora: \"))\n",
        "horas_trabalhadas = float(input(\"Digite quantas horas você trabalhou esse mês: \"))\n"
      ]
    },
    {
      "cell_type": "code",
      "source": [
        "# Calculando os valores dos descontos\n",
        "\n",
        "# Calculando o valor do salário bruto\n",
        "SalBruto = valorhora * horas_trabalhadas\n",
        "\n",
        "# Calculando o valor do IR pessoa física\n",
        "if (SalBruto <= 900):\n",
        "  desconto_ir = 0.0\n",
        "elif(900 < SalBruto <= 1500):\n",
        "  desconto_ir = 5\n",
        "elif(SalBruto <= 2500):\n",
        "  desconto_ir = 10\n",
        "else:\n",
        "  desconto_ir = 20\n",
        "\n",
        "# Calculando os outros descontos IR, INSS, FGTS, Salário Líquido..\n",
        "IR = SalBruto * (desconto_ir/100)\n",
        "INSS = SalBruto * (10/100)\n",
        "FGTS = SalBruto * (11/100)\n",
        "Total_Descontos = IR + INSS\n",
        "SalLiquido = SalBruto - Total_Descontos"
      ],
      "metadata": {
        "id": "MxdbBaBefi8b"
      },
      "execution_count": 4,
      "outputs": []
    },
    {
      "cell_type": "code",
      "source": [
        "# Saída dos dados - Resultado Final..\n",
        "print(\n",
        "    f\"\\n Salário Bruto                : R${SalBruto:.2f}\",\n",
        "    f\"\\n (-) Imposto de Renda (5%)    : R${IR:.2f}\",\n",
        "    f\"\\n (-) Desconto INSS (10%)      : R${INSS:.2f}\",\n",
        "    f\"\\n (-) Desconto FGTS(11%)       : R${FGTS:.2f}\",\n",
        "    f\"\\n Total de Descontos Aplicados : R${Total_Descontos:.2f}\",\n",
        "    f\"\\n Salário Líquido              : R${SalLiquido:.2f}\"\n",
        ")"
      ],
      "metadata": {
        "colab": {
          "base_uri": "https://localhost:8080/"
        },
        "id": "yJk9YUIrhpqi",
        "outputId": "42ce66a3-16f1-4362-95e2-ef59c955ce5c"
      },
      "execution_count": 6,
      "outputs": [
        {
          "output_type": "stream",
          "name": "stdout",
          "text": [
            "\n",
            " Salário Bruto                : R$1800.00 \n",
            " (-) Imposto de Renda (5%)    : R$180.00 \n",
            " (-) Desconto INSS (10%)      : R$180.00 \n",
            " (-) Desconto FGTS(11%)       : R$198.00 \n",
            " Total de Descontos Aplicados : R$360.00 \n",
            " Salário Líquido              : R$1440.00\n"
          ]
        }
      ]
    }
  ]
}